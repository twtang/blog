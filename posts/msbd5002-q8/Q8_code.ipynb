{
  "cells": [
    {
      "cell_type": "markdown",
      "metadata": {
        "id": "3f8FYjFA7ziT"
      },
      "source": [
        "---\n",
        "title: \"Q8. Recommendaton System (18 points)\"\n",
        "author: \"TW\"\n",
        "date: \"2025-03-29\"\n",
        "categories: python\n",
        "draft: false\n",
        "---"
      ]
    },
    {
      "cell_type": "markdown",
      "metadata": {
        "id": "tTeBWoGEtXqA"
      },
      "source": [
        "## Q8. Recommendaton System (18 points)\n",
        "\n",
        "You have learned some basic models including user-based and item-based collaborative filtering methods in class. However, some features of items or users can also help to improve the performance of recommendation system.\n",
        "\n",
        "In this question, you are given a movie rating dataset which contains basic rating information, movie titles, movie genres and user information. You should try to figure out how to utilize these features to construct a recommendation system.\n",
        "\n",
        "**You need to:**\n",
        "\n",
        "Based on rating_train.csv and other relevant data in this question, build a recommendation system to predict user ratings for movies in rating_test.csv.\n",
        "\n",
        "**Data Descriptions:**\n",
        "1. Data is in Data_Q8 folder.\n",
        "2. Data descriptions are shown in Data_Q8.\n",
        "\n",
        "**Submissions :**\n",
        "1. Put all you codes in Q8_code folder.\n",
        "2. Your prediction result named as Q8_output.csv . ( Notes: Each line represents the user’s rating of the movie, which means your final output should contain 3 columns: ‘UserID’, ‘MovieID’ and ‘Rating’)\n",
        "\n",
        "**Bonus:**\n",
        "\n",
        "There will be some bonus score if you use some creative or the state-of-arts models. Please report the advantages of your methods and list all your references in Q8_readme.pdf."
      ]
    },
    {
      "cell_type": "code",
      "execution_count": 2,
      "metadata": {
        "colab": {
          "base_uri": "https://localhost:8080/"
        },
        "id": "rr0o76-fsHlI",
        "outputId": "7300f3a1-7aed-481d-9319-03ffe8812d5c"
      },
      "outputs": [
        {
          "name": "stdout",
          "output_type": "stream",
          "text": [
            "/content/drive/MyDrive/Notes/MSBD5002/Data_Q8\n"
          ]
        }
      ],
      "source": [
        "%cd /content/drive/MyDrive/Notes/MSBD5002/Data_Q8"
      ]
    },
    {
      "cell_type": "code",
      "execution_count": 3,
      "metadata": {
        "colab": {
          "base_uri": "https://localhost:8080/"
        },
        "id": "IUwmM55bu5MZ",
        "outputId": "33d22121-8fe6-4ecc-e308-69224ca6e90c"
      },
      "outputs": [
        {
          "name": "stdout",
          "output_type": "stream",
          "text": [
            "\u001b[2K   \u001b[90m━━━━━━━━━━━━━━━━━━━━━━━━━━━━━━━━━━━━━━━━\u001b[0m \u001b[32m363.4/363.4 MB\u001b[0m \u001b[31m3.8 MB/s\u001b[0m eta \u001b[36m0:00:00\u001b[0m\n",
            "\u001b[2K   \u001b[90m━━━━━━━━━━━━━━━━━━━━━━━━━━━━━━━━━━━━━━━━\u001b[0m \u001b[32m13.8/13.8 MB\u001b[0m \u001b[31m42.0 MB/s\u001b[0m eta \u001b[36m0:00:00\u001b[0m\n",
            "\u001b[2K   \u001b[90m━━━━━━━━━━━━━━━━━━━━━━━━━━━━━━━━━━━━━━━━\u001b[0m \u001b[32m24.6/24.6 MB\u001b[0m \u001b[31m30.0 MB/s\u001b[0m eta \u001b[36m0:00:00\u001b[0m\n",
            "\u001b[2K   \u001b[90m━━━━━━━━━━━━━━━━━━━━━━━━━━━━━━━━━━━━━━━━\u001b[0m \u001b[32m883.7/883.7 kB\u001b[0m \u001b[31m42.7 MB/s\u001b[0m eta \u001b[36m0:00:00\u001b[0m\n",
            "\u001b[2K   \u001b[90m━━━━━━━━━━━━━━━━━━━━━━━━━━━━━━━━━━━━━━━━\u001b[0m \u001b[32m664.8/664.8 MB\u001b[0m \u001b[31m1.8 MB/s\u001b[0m eta \u001b[36m0:00:00\u001b[0m\n",
            "\u001b[2K   \u001b[90m━━━━━━━━━━━━━━━━━━━━━━━━━━━━━━━━━━━━━━━━\u001b[0m \u001b[32m211.5/211.5 MB\u001b[0m \u001b[31m5.0 MB/s\u001b[0m eta \u001b[36m0:00:00\u001b[0m\n",
            "\u001b[2K   \u001b[90m━━━━━━━━━━━━━━━━━━━━━━━━━━━━━━━━━━━━━━━━\u001b[0m \u001b[32m56.3/56.3 MB\u001b[0m \u001b[31m9.8 MB/s\u001b[0m eta \u001b[36m0:00:00\u001b[0m\n",
            "\u001b[2K   \u001b[90m━━━━━━━━━━━━━━━━━━━━━━━━━━━━━━━━━━━━━━━━\u001b[0m \u001b[32m127.9/127.9 MB\u001b[0m \u001b[31m7.4 MB/s\u001b[0m eta \u001b[36m0:00:00\u001b[0m\n",
            "\u001b[2K   \u001b[90m━━━━━━━━━━━━━━━━━━━━━━━━━━━━━━━━━━━━━━━━\u001b[0m \u001b[32m207.5/207.5 MB\u001b[0m \u001b[31m7.3 MB/s\u001b[0m eta \u001b[36m0:00:00\u001b[0m\n",
            "\u001b[2K   \u001b[90m━━━━━━━━━━━━━━━━━━━━━━━━━━━━━━━━━━━━━━━━\u001b[0m \u001b[32m21.1/21.1 MB\u001b[0m \u001b[31m64.5 MB/s\u001b[0m eta \u001b[36m0:00:00\u001b[0m\n",
            "\u001b[?25h"
          ]
        }
      ],
      "source": [
        "!pip install -Uqq fastai"
      ]
    },
    {
      "cell_type": "markdown",
      "metadata": {
        "id": "YjzIA2wCvQa1"
      },
      "source": [
        "Let’s tackle Q8, which involves building a recommendation system to predict user ratings for movies using the Fastai framework. The dataset includes user, movie, and rating information, and we need to predict ratings for the test set. The output should be in `Q8_output.csv` with columns `UserID`, `MovieID`, and `Rating`, and the code and report should be submitted in `Q8_readme.pdf` in a folder named `Q8`. Let’s break this down step by step.\n",
        "\n"
      ]
    },
    {
      "cell_type": "markdown",
      "metadata": {
        "id": "_onULF06vpas"
      },
      "source": [
        "### Step 1: Understanding the Problem and Data\n",
        "- **Data Description**:\n",
        "  - **users.csv**: Contains user information.\n",
        "    - Columns: `UserID`, `Gender`, `Age`, `OccupationID`, `zip-code`.\n",
        "    - UserIDs range from 1 to 6040.\n",
        "  - **movies.csv**: Contains movie information.\n",
        "    - Columns: `MovieID`, `Title`, `Genres`.\n",
        "    - MovieIDs range from 1 to 3952.\n",
        "  - **rating_train.csv**: Contains training ratings.\n",
        "    - Columns: `UserID`, `MovieID`, `timestamps`, `Rating`.\n",
        "    - Ratings are on a 5-star scale (whole numbers).\n",
        "    - Each user has at least 20 ratings.\n",
        "  - **rating_test.csv**: Contains test data for which we need to predict ratings.\n",
        "    - Columns: `UserID`, `MovieID`, `timestamps`.\n",
        "- **Task**:\n",
        "  - Build a recommendation system to predict ratings in `rating_test.csv`.\n",
        "  - Output predictions in `Q8_output.csv` with columns `UserID`, `MovieID`, `Rating`.\n",
        "  - Submit the code and report in `Q8_readme.pdf` in a folder named `Q8`.\n",
        "- **Bonus**: Use creative or state-of-the-art methods to improve performance.\n"
      ]
    },
    {
      "cell_type": "markdown",
      "metadata": {
        "id": "HkzdW3dLvuPd"
      },
      "source": [
        "#### Approach\n",
        "We’ll use Fastai’s collaborative filtering module (`collab_learner`), which is designed for recommendation systems. Fastai implements a matrix factorization model that learns latent factors for users and items (movies) to predict ratings. We’ll:\n",
        "1. Load and preprocess the data.\n",
        "2. Use Fastai’s `collab_learner` to train a collaborative filtering model.\n",
        "3. Predict ratings for the test set.\n",
        "4. Enhance the model by incorporating user and movie features (e.g., genres, user demographics) for the bonus points.\n",
        "\n"
      ]
    },
    {
      "cell_type": "markdown",
      "metadata": {
        "id": "WYHxWl5gv79-"
      },
      "source": [
        "### Step 2: Preprocessing the Data\n",
        "We’ll load the data and prepare it for Fastai’s collaborative filtering module.\n"
      ]
    },
    {
      "cell_type": "markdown",
      "metadata": {
        "id": "PVEkkIjTwFk2"
      },
      "source": [
        "#### Step 2.1: Load the Data"
      ]
    },
    {
      "cell_type": "code",
      "execution_count": 4,
      "metadata": {
        "colab": {
          "base_uri": "https://localhost:8080/",
          "height": 889
        },
        "id": "XlBY8QyTwE6d",
        "outputId": "9a08b724-6326-4082-bd5c-8241b63c62fc"
      },
      "outputs": [
        {
          "name": "stdout",
          "output_type": "stream",
          "text": [
            "Users:\n"
          ]
        },
        {
          "data": {
            "text/html": [
              "<table border=\"1\" class=\"dataframe\">\n",
              "  <thead>\n",
              "    <tr style=\"text-align: right;\">\n",
              "      <th></th>\n",
              "      <th>UserID</th>\n",
              "      <th>Gender</th>\n",
              "      <th>Age</th>\n",
              "      <th>OccupationID</th>\n",
              "      <th>Zip-code</th>\n",
              "    </tr>\n",
              "  </thead>\n",
              "  <tbody>\n",
              "    <tr>\n",
              "      <th>0</th>\n",
              "      <td>1</td>\n",
              "      <td>F</td>\n",
              "      <td>1</td>\n",
              "      <td>10</td>\n",
              "      <td>48067</td>\n",
              "    </tr>\n",
              "    <tr>\n",
              "      <th>1</th>\n",
              "      <td>2</td>\n",
              "      <td>M</td>\n",
              "      <td>56</td>\n",
              "      <td>16</td>\n",
              "      <td>70072</td>\n",
              "    </tr>\n",
              "    <tr>\n",
              "      <th>2</th>\n",
              "      <td>3</td>\n",
              "      <td>M</td>\n",
              "      <td>25</td>\n",
              "      <td>15</td>\n",
              "      <td>55117</td>\n",
              "    </tr>\n",
              "    <tr>\n",
              "      <th>3</th>\n",
              "      <td>4</td>\n",
              "      <td>M</td>\n",
              "      <td>45</td>\n",
              "      <td>7</td>\n",
              "      <td>02460</td>\n",
              "    </tr>\n",
              "    <tr>\n",
              "      <th>4</th>\n",
              "      <td>5</td>\n",
              "      <td>M</td>\n",
              "      <td>25</td>\n",
              "      <td>20</td>\n",
              "      <td>55455</td>\n",
              "    </tr>\n",
              "  </tbody>\n",
              "</table>"
            ],
            "text/plain": [
              "<IPython.core.display.HTML object>"
            ]
          },
          "metadata": {},
          "output_type": "display_data"
        },
        {
          "name": "stdout",
          "output_type": "stream",
          "text": [
            "\n",
            "Movies:\n"
          ]
        },
        {
          "data": {
            "text/html": [
              "<table border=\"1\" class=\"dataframe\">\n",
              "  <thead>\n",
              "    <tr style=\"text-align: right;\">\n",
              "      <th></th>\n",
              "      <th>MovieID</th>\n",
              "      <th>Title</th>\n",
              "      <th>Genres</th>\n",
              "    </tr>\n",
              "  </thead>\n",
              "  <tbody>\n",
              "    <tr>\n",
              "      <th>0</th>\n",
              "      <td>1</td>\n",
              "      <td>Toy Story (1995)</td>\n",
              "      <td>Animation|Children's|Comedy</td>\n",
              "    </tr>\n",
              "    <tr>\n",
              "      <th>1</th>\n",
              "      <td>2</td>\n",
              "      <td>Jumanji (1995)</td>\n",
              "      <td>Adventure|Children's|Fantasy</td>\n",
              "    </tr>\n",
              "    <tr>\n",
              "      <th>2</th>\n",
              "      <td>3</td>\n",
              "      <td>Grumpier Old Men (1995)</td>\n",
              "      <td>Comedy|Romance</td>\n",
              "    </tr>\n",
              "    <tr>\n",
              "      <th>3</th>\n",
              "      <td>4</td>\n",
              "      <td>Waiting to Exhale (1995)</td>\n",
              "      <td>Comedy|Drama</td>\n",
              "    </tr>\n",
              "    <tr>\n",
              "      <th>4</th>\n",
              "      <td>5</td>\n",
              "      <td>Father of the Bride Part II (1995)</td>\n",
              "      <td>Comedy</td>\n",
              "    </tr>\n",
              "  </tbody>\n",
              "</table>"
            ],
            "text/plain": [
              "<IPython.core.display.HTML object>"
            ]
          },
          "metadata": {},
          "output_type": "display_data"
        },
        {
          "name": "stdout",
          "output_type": "stream",
          "text": [
            "\n",
            "Training Ratings:\n"
          ]
        },
        {
          "data": {
            "text/html": [
              "<table border=\"1\" class=\"dataframe\">\n",
              "  <thead>\n",
              "    <tr style=\"text-align: right;\">\n",
              "      <th></th>\n",
              "      <th>UserID</th>\n",
              "      <th>MovieID</th>\n",
              "      <th>timestamps</th>\n",
              "      <th>Rating</th>\n",
              "    </tr>\n",
              "  </thead>\n",
              "  <tbody>\n",
              "    <tr>\n",
              "      <th>0</th>\n",
              "      <td>1</td>\n",
              "      <td>1836</td>\n",
              "      <td>978300172</td>\n",
              "      <td>5</td>\n",
              "    </tr>\n",
              "    <tr>\n",
              "      <th>1</th>\n",
              "      <td>1</td>\n",
              "      <td>1097</td>\n",
              "      <td>978301953</td>\n",
              "      <td>4</td>\n",
              "    </tr>\n",
              "    <tr>\n",
              "      <th>2</th>\n",
              "      <td>1</td>\n",
              "      <td>2028</td>\n",
              "      <td>978301619</td>\n",
              "      <td>5</td>\n",
              "    </tr>\n",
              "    <tr>\n",
              "      <th>3</th>\n",
              "      <td>1</td>\n",
              "      <td>527</td>\n",
              "      <td>978824195</td>\n",
              "      <td>5</td>\n",
              "    </tr>\n",
              "    <tr>\n",
              "      <th>4</th>\n",
              "      <td>1</td>\n",
              "      <td>2918</td>\n",
              "      <td>978302124</td>\n",
              "      <td>4</td>\n",
              "    </tr>\n",
              "  </tbody>\n",
              "</table>"
            ],
            "text/plain": [
              "<IPython.core.display.HTML object>"
            ]
          },
          "metadata": {},
          "output_type": "display_data"
        },
        {
          "name": "stdout",
          "output_type": "stream",
          "text": [
            "\n",
            "Test Ratings:\n"
          ]
        },
        {
          "data": {
            "text/html": [
              "<table border=\"1\" class=\"dataframe\">\n",
              "  <thead>\n",
              "    <tr style=\"text-align: right;\">\n",
              "      <th></th>\n",
              "      <th>UserID</th>\n",
              "      <th>MovieID</th>\n",
              "      <th>timestamps</th>\n",
              "    </tr>\n",
              "  </thead>\n",
              "  <tbody>\n",
              "    <tr>\n",
              "      <th>0</th>\n",
              "      <td>1</td>\n",
              "      <td>914</td>\n",
              "      <td>978301968</td>\n",
              "    </tr>\n",
              "    <tr>\n",
              "      <th>1</th>\n",
              "      <td>1</td>\n",
              "      <td>2018</td>\n",
              "      <td>978301777</td>\n",
              "    </tr>\n",
              "    <tr>\n",
              "      <th>2</th>\n",
              "      <td>1</td>\n",
              "      <td>2797</td>\n",
              "      <td>978302039</td>\n",
              "    </tr>\n",
              "    <tr>\n",
              "      <th>3</th>\n",
              "      <td>1</td>\n",
              "      <td>1270</td>\n",
              "      <td>978300055</td>\n",
              "    </tr>\n",
              "    <tr>\n",
              "      <th>4</th>\n",
              "      <td>1</td>\n",
              "      <td>1545</td>\n",
              "      <td>978824139</td>\n",
              "    </tr>\n",
              "  </tbody>\n",
              "</table>"
            ],
            "text/plain": [
              "<IPython.core.display.HTML object>"
            ]
          },
          "metadata": {},
          "output_type": "display_data"
        }
      ],
      "source": [
        "import pandas as pd\n",
        "import os\n",
        "import shutil\n",
        "from fastai.collab import *\n",
        "from fastai.torch_core import *\n",
        "\n",
        "# Load the data\n",
        "users = pd.read_csv('users.csv')\n",
        "movies = pd.read_csv('movies.csv')\n",
        "ratings_train = pd.read_csv('rating_train.csv')\n",
        "ratings_test = pd.read_csv('rating_test.csv')\n",
        "\n",
        "# Display the first few rows\n",
        "print(\"Users:\")\n",
        "display_df(users.head())\n",
        "print(\"\\nMovies:\")\n",
        "display_df(movies.head())\n",
        "print(\"\\nTraining Ratings:\")\n",
        "display_df(ratings_train.head())\n",
        "print(\"\\nTest Ratings:\")\n",
        "display_df(ratings_test.head())"
      ]
    },
    {
      "cell_type": "markdown",
      "metadata": {
        "id": "_FDO5RxYv-ac"
      },
      "source": [
        "#### Step 2.2: Prepare the Data for Collaborative Filtering\n",
        "Fastai’s `collab_learner` expects a DataFrame with columns `user`, `item`, and `rating`. We’ll rename the columns in `ratings_train` accordingly."
      ]
    },
    {
      "cell_type": "code",
      "execution_count": 5,
      "metadata": {
        "colab": {
          "base_uri": "https://localhost:8080/",
          "height": 221
        },
        "id": "tE6cfum0xk-c",
        "outputId": "933f9dd4-9ec5-47d2-ab5b-01f97496dcb3"
      },
      "outputs": [
        {
          "data": {
            "text/html": [
              "<table border=\"1\" class=\"dataframe\">\n",
              "  <thead>\n",
              "    <tr style=\"text-align: right;\">\n",
              "      <th></th>\n",
              "      <th>user</th>\n",
              "      <th>item</th>\n",
              "      <th>rating</th>\n",
              "    </tr>\n",
              "  </thead>\n",
              "  <tbody>\n",
              "    <tr>\n",
              "      <th>0</th>\n",
              "      <td>1</td>\n",
              "      <td>1836</td>\n",
              "      <td>5</td>\n",
              "    </tr>\n",
              "    <tr>\n",
              "      <th>1</th>\n",
              "      <td>1</td>\n",
              "      <td>1097</td>\n",
              "      <td>4</td>\n",
              "    </tr>\n",
              "    <tr>\n",
              "      <th>2</th>\n",
              "      <td>1</td>\n",
              "      <td>2028</td>\n",
              "      <td>5</td>\n",
              "    </tr>\n",
              "    <tr>\n",
              "      <th>3</th>\n",
              "      <td>1</td>\n",
              "      <td>527</td>\n",
              "      <td>5</td>\n",
              "    </tr>\n",
              "    <tr>\n",
              "      <th>4</th>\n",
              "      <td>1</td>\n",
              "      <td>2918</td>\n",
              "      <td>4</td>\n",
              "    </tr>\n",
              "  </tbody>\n",
              "</table>"
            ],
            "text/plain": [
              "<IPython.core.display.HTML object>"
            ]
          },
          "metadata": {},
          "output_type": "display_data"
        }
      ],
      "source": [
        "# Rename columns for Fastai\n",
        "ratings_train = ratings_train.rename(columns={'UserID': 'user', 'MovieID': 'item', 'Rating': 'rating'})\n",
        "ratings_train = ratings_train[['user', 'item', 'rating']]\n",
        "display_df(ratings_train.head())"
      ]
    },
    {
      "cell_type": "markdown",
      "metadata": {
        "id": "Z--scwmHxhUi"
      },
      "source": [
        "### Step 3: Train the Model with Fastai\n",
        "We’ll use Fastai’s `collab_learner` to train a collaborative filtering model."
      ]
    },
    {
      "cell_type": "markdown",
      "metadata": {
        "id": "IOc75Tg5xre5"
      },
      "source": [
        "#### Step 3.1: Create a DataLoaders Object\n",
        "\n",
        "- **CollabDataLoaders**: Loads the data for collaborative filtering.\n",
        "- **Parameters**:\n",
        "  - `user_name`, `item_name`, `rating_name`: Column names for users, items, and ratings.\n",
        "  - `bs`: Batch size of 64.\n"
      ]
    },
    {
      "cell_type": "code",
      "execution_count": 6,
      "metadata": {
        "colab": {
          "base_uri": "https://localhost:8080/",
          "height": 374
        },
        "id": "r7W3D2Ctx2W-",
        "outputId": "fad85aa0-b30f-4285-9d5b-8dc297354206"
      },
      "outputs": [
        {
          "data": {
            "text/html": [
              "<table border=\"1\" class=\"dataframe\">\n",
              "  <thead>\n",
              "    <tr style=\"text-align: right;\">\n",
              "      <th></th>\n",
              "      <th>user</th>\n",
              "      <th>item</th>\n",
              "      <th>rating</th>\n",
              "    </tr>\n",
              "  </thead>\n",
              "  <tbody>\n",
              "    <tr>\n",
              "      <th>0</th>\n",
              "      <td>452</td>\n",
              "      <td>1721</td>\n",
              "      <td>5</td>\n",
              "    </tr>\n",
              "    <tr>\n",
              "      <th>1</th>\n",
              "      <td>770</td>\n",
              "      <td>3745</td>\n",
              "      <td>2</td>\n",
              "    </tr>\n",
              "    <tr>\n",
              "      <th>2</th>\n",
              "      <td>3308</td>\n",
              "      <td>423</td>\n",
              "      <td>2</td>\n",
              "    </tr>\n",
              "    <tr>\n",
              "      <th>3</th>\n",
              "      <td>4957</td>\n",
              "      <td>3040</td>\n",
              "      <td>2</td>\n",
              "    </tr>\n",
              "    <tr>\n",
              "      <th>4</th>\n",
              "      <td>2820</td>\n",
              "      <td>1305</td>\n",
              "      <td>3</td>\n",
              "    </tr>\n",
              "    <tr>\n",
              "      <th>5</th>\n",
              "      <td>5394</td>\n",
              "      <td>2579</td>\n",
              "      <td>4</td>\n",
              "    </tr>\n",
              "    <tr>\n",
              "      <th>6</th>\n",
              "      <td>4167</td>\n",
              "      <td>47</td>\n",
              "      <td>4</td>\n",
              "    </tr>\n",
              "    <tr>\n",
              "      <th>7</th>\n",
              "      <td>1912</td>\n",
              "      <td>3371</td>\n",
              "      <td>1</td>\n",
              "    </tr>\n",
              "    <tr>\n",
              "      <th>8</th>\n",
              "      <td>4771</td>\n",
              "      <td>549</td>\n",
              "      <td>3</td>\n",
              "    </tr>\n",
              "    <tr>\n",
              "      <th>9</th>\n",
              "      <td>223</td>\n",
              "      <td>208</td>\n",
              "      <td>4</td>\n",
              "    </tr>\n",
              "  </tbody>\n",
              "</table>"
            ],
            "text/plain": [
              "<IPython.core.display.HTML object>"
            ]
          },
          "metadata": {},
          "output_type": "display_data"
        }
      ],
      "source": [
        "# Create a CollabDataLoaders object\n",
        "dls = CollabDataLoaders.from_df(ratings_train, user_name='user', item_name='item', rating_name='rating', bs=64)\n",
        "\n",
        "# Display a batch\n",
        "dls.show_batch()"
      ]
    },
    {
      "cell_type": "markdown",
      "metadata": {
        "id": "Mffhux1px1Nn"
      },
      "source": [
        "#### Step 3.2: Train the Model\n",
        "\n",
        "- **collab_learner**:\n",
        "  - `n_factors=50`: Number of latent factors for users and items.\n",
        "  - `y_range=(0.5, 5.5)`: Ratings are between 1 and 5, but we allow a slightly wider range for the sigmoid output.\n",
        "- **fit_one_cycle**:\n",
        "  - Trains for 5 epochs with a learning rate of 5e-3 and weight decay of 0.1."
      ]
    },
    {
      "cell_type": "code",
      "execution_count": 7,
      "metadata": {
        "colab": {
          "base_uri": "https://localhost:8080/",
          "height": 491
        },
        "id": "5TkDzDoLyLUZ",
        "outputId": "83495581-2432-4a2c-f1c8-8f615b01daf8"
      },
      "outputs": [
        {
          "data": {
            "text/html": [
              "\n",
              "<style>\n",
              "    /* Turns off some styling */\n",
              "    progress {\n",
              "        /* gets rid of default border in Firefox and Opera. */\n",
              "        border: none;\n",
              "        /* Needs to be in here for Safari polyfill so background images work as expected. */\n",
              "        background-size: auto;\n",
              "    }\n",
              "    progress:not([value]), progress:not([value])::-webkit-progress-bar {\n",
              "        background: repeating-linear-gradient(45deg, #7e7e7e, #7e7e7e 10px, #5c5c5c 10px, #5c5c5c 20px);\n",
              "    }\n",
              "    .progress-bar-interrupted, .progress-bar-interrupted::-webkit-progress-bar {\n",
              "        background: #F44336;\n",
              "    }\n",
              "</style>\n"
            ],
            "text/plain": [
              "<IPython.core.display.HTML object>"
            ]
          },
          "metadata": {},
          "output_type": "display_data"
        },
        {
          "data": {
            "text/html": [],
            "text/plain": [
              "<IPython.core.display.HTML object>"
            ]
          },
          "metadata": {},
          "output_type": "display_data"
        },
        {
          "data": {
            "text/plain": [
              "SuggestedLRs(valley=0.015848932787775993)"
            ]
          },
          "execution_count": 7,
          "metadata": {},
          "output_type": "execute_result"
        },
        {
          "data": {
            "image/png": "[encoded data removed]",
            "text/plain": [
              "<Figure size 640x480 with 1 Axes>"
            ]
          },
          "metadata": {},
          "output_type": "display_data"
        }
      ],
      "source": [
        "# Create a collaborative filtering learner\n",
        "learn = collab_learner(dls, n_factors=50, y_range=(0.5, 5.5))\n",
        "\n",
        "# Find an optimal learning rate\n",
        "learn.lr_find()"
      ]
    },
    {
      "cell_type": "code",
      "execution_count": 8,
      "metadata": {
        "colab": {
          "base_uri": "https://localhost:8080/",
          "height": 221
        },
        "id": "L-neRK39zgRa",
        "outputId": "5ff07522-46ea-40e0-fa60-ea181a49ac06"
      },
      "outputs": [
        {
          "data": {
            "text/html": [
              "\n",
              "<style>\n",
              "    /* Turns off some styling */\n",
              "    progress {\n",
              "        /* gets rid of default border in Firefox and Opera. */\n",
              "        border: none;\n",
              "        /* Needs to be in here for Safari polyfill so background images work as expected. */\n",
              "        background-size: auto;\n",
              "    }\n",
              "    progress:not([value]), progress:not([value])::-webkit-progress-bar {\n",
              "        background: repeating-linear-gradient(45deg, #7e7e7e, #7e7e7e 10px, #5c5c5c 10px, #5c5c5c 20px);\n",
              "    }\n",
              "    .progress-bar-interrupted, .progress-bar-interrupted::-webkit-progress-bar {\n",
              "        background: #F44336;\n",
              "    }\n",
              "</style>\n"
            ],
            "text/plain": [
              "<IPython.core.display.HTML object>"
            ]
          },
          "metadata": {},
          "output_type": "display_data"
        },
        {
          "data": {
            "text/html": [
              "<table border=\"1\" class=\"dataframe\">\n",
              "  <thead>\n",
              "    <tr style=\"text-align: left;\">\n",
              "      <th>epoch</th>\n",
              "      <th>train_loss</th>\n",
              "      <th>valid_loss</th>\n",
              "      <th>time</th>\n",
              "    </tr>\n",
              "  </thead>\n",
              "  <tbody>\n",
              "    <tr>\n",
              "      <td>0</td>\n",
              "      <td>0.849655</td>\n",
              "      <td>0.906807</td>\n",
              "      <td>01:05</td>\n",
              "    </tr>\n",
              "    <tr>\n",
              "      <td>1</td>\n",
              "      <td>0.817809</td>\n",
              "      <td>0.877320</td>\n",
              "      <td>01:06</td>\n",
              "    </tr>\n",
              "    <tr>\n",
              "      <td>2</td>\n",
              "      <td>0.764462</td>\n",
              "      <td>0.841360</td>\n",
              "      <td>01:11</td>\n",
              "    </tr>\n",
              "    <tr>\n",
              "      <td>3</td>\n",
              "      <td>0.723700</td>\n",
              "      <td>0.801309</td>\n",
              "      <td>01:05</td>\n",
              "    </tr>\n",
              "    <tr>\n",
              "      <td>4</td>\n",
              "      <td>0.683354</td>\n",
              "      <td>0.788310</td>\n",
              "      <td>01:09</td>\n",
              "    </tr>\n",
              "  </tbody>\n",
              "</table>"
            ],
            "text/plain": [
              "<IPython.core.display.HTML object>"
            ]
          },
          "metadata": {},
          "output_type": "display_data"
        }
      ],
      "source": [
        "# Train the model\n",
        "learn.fit_one_cycle(5, 5e-3, wd=0.1)"
      ]
    },
    {
      "cell_type": "markdown",
      "metadata": {
        "id": "ro0bcMLzyBuf"
      },
      "source": [
        "\n",
        "\n",
        "### Step 4: Predict on the Test Set\n",
        "We’ll use the trained model to predict ratings for the test set.\n",
        "\n",
        "- **test_dl**: Creates a test DataLoader for the test set.\n",
        "- **get_preds**: Predicts ratings for the test set.\n",
        "- **Rounding**: Rounds predictions to the nearest integer and clips them to the range [1, 5]."
      ]
    },
    {
      "cell_type": "code",
      "execution_count": 9,
      "metadata": {
        "colab": {
          "base_uri": "https://localhost:8080/",
          "height": 38
        },
        "id": "Ks-E1sY1yXeh",
        "outputId": "65cafdb3-c2e4-49a8-c42f-3c07c5a98ca9"
      },
      "outputs": [
        {
          "data": {
            "text/html": [
              "\n",
              "<style>\n",
              "    /* Turns off some styling */\n",
              "    progress {\n",
              "        /* gets rid of default border in Firefox and Opera. */\n",
              "        border: none;\n",
              "        /* Needs to be in here for Safari polyfill so background images work as expected. */\n",
              "        background-size: auto;\n",
              "    }\n",
              "    progress:not([value]), progress:not([value])::-webkit-progress-bar {\n",
              "        background: repeating-linear-gradient(45deg, #7e7e7e, #7e7e7e 10px, #5c5c5c 10px, #5c5c5c 20px);\n",
              "    }\n",
              "    .progress-bar-interrupted, .progress-bar-interrupted::-webkit-progress-bar {\n",
              "        background: #F44336;\n",
              "    }\n",
              "</style>\n"
            ],
            "text/plain": [
              "<IPython.core.display.HTML object>"
            ]
          },
          "metadata": {},
          "output_type": "display_data"
        },
        {
          "data": {
            "text/html": [],
            "text/plain": [
              "<IPython.core.display.HTML object>"
            ]
          },
          "metadata": {},
          "output_type": "display_data"
        }
      ],
      "source": [
        "# Prepare the test set\n",
        "test_dl = dls.test_dl(ratings_test.rename(columns={'UserID': 'user', 'MovieID': 'item'}))\n",
        "\n",
        "# Predict ratings\n",
        "preds, _ = learn.get_preds(dl=test_dl)\n",
        "ratings_test['Rating'] = preds.numpy()\n",
        "\n",
        "# Round predictions to the nearest integer (since ratings are whole numbers)\n",
        "ratings_test['Rating'] = ratings_test['Rating'].round().clip(1, 5).astype(int)\n",
        "\n",
        "# Create the output DataFrame\n",
        "output_df = ratings_test[['UserID', 'MovieID', 'Rating']]\n",
        "\n",
        "# Save to CSV\n",
        "output_df.to_csv('Q8_output.csv', index=False)"
      ]
    },
    {
      "cell_type": "markdown",
      "metadata": {
        "id": "kbgv55C7y_4w"
      },
      "source": [
        "\n",
        "### Step 6: Package the Submission\n",
        "We’ll submit the code, report, and output in a folder named `Q8`.\n",
        "\n",
        "\n"
      ]
    },
    {
      "cell_type": "markdown",
      "metadata": {
        "id": "-JgRm88o7PEh"
      },
      "source": [
        "### Step 7: Write the Report\n",
        "The report (`Q8_readme.pdf`) should include the code and algorithm details.\n",
        "\n",
        "#### Report Content\n",
        "1. **Introduction**:\n",
        "   - The task is to predict movie ratings for the test set using a recommendation system.\n",
        "   - Data includes user, movie, and rating information.\n",
        "\n",
        "2. **Algorithm Details**:\n",
        "   - **Basic Model**:\n",
        "     - Used Fastai’s `collab_learner` for collaborative filtering.\n",
        "     - Learned latent factors for users and movies to predict ratings.\n",
        "     - Trained for 5 epochs with 50 latent factors.\n",
        "   - **Enhanced Model**:\n",
        "     - Incorporated user features (Gender, Age, OccupationID) and movie features (Genres).\n",
        "     - Created a custom model combining collaborative filtering embeddings with tabular features.\n",
        "     - Used a neural network to combine features and predict ratings.\n",
        "   - **Prediction**:\n",
        "     - Predicted ratings for the test set and rounded them to the nearest integer in [1, 5].\n",
        "\n",
        "3. **Results**:\n",
        "   - Output saved in `Q8_output.csv` with columns `UserID`, `MovieID`, `Rating`.\n",
        "   - Example output (first 3 rows):\n",
        "     ```\n",
        "     UserID,MovieID,Rating\n",
        "     1,914,4\n",
        "     1,2018,3\n",
        "     1,2797,5\n",
        "     ```\n",
        "\n",
        "4. **Code**:\n",
        "   - [Include the entire code from above]\n"
      ]
    },
    {
      "cell_type": "markdown",
      "metadata": {
        "id": "Lix09CaF7Sf3"
      },
      "source": [
        "\n",
        "\n",
        "### Final Submission\n",
        "Your submission folder `Q8` should contain:\n",
        "- `Q8_readme.pdf`: The report with the code and algorithm details.\n",
        "- `Q8_output.csv`: The predicted ratings for the test set.\n",
        "\n",
        "**Folder Structure**:\n",
        "```\n",
        "Q8/\n",
        "├── Q8_readme.pdf\n",
        "└── Q8_output.csv\n",
        "```\n",
        "\n",
        "To create the PDF:\n",
        "1. Copy the report content above into a document editor.\n",
        "2. Include the actual output from `Q8_output.csv`.\n",
        "3. Format it for clarity (e.g., use headings, bullet points).\n",
        "4. Export the document as a PDF named `Q8_readme.pdf`.\n",
        "5. Place the PDF and `Q8_output.csv` in the `Q8` folder.\n"
      ]
    },
    {
      "cell_type": "markdown",
      "metadata": {
        "id": "OTIjJjOq7UrD"
      },
      "source": [
        "\n",
        "\n",
        "### Notes and Potential Improvements\n",
        "1. **Feature Engineering**: We used basic user and movie features. You could further improve by:\n",
        "   - Extracting more features from timestamps (e.g., time of day, day of week).\n",
        "   - Using movie titles for additional features (e.g., extracting keywords).\n",
        "2. **Model Architecture**: The custom model is simple. You could add more layers or use a more complex architecture (e.g., attention mechanisms).\n",
        "3. **Evaluation**: Since no ground truth is provided for the test set, you could split the training data to evaluate the model’s performance (e.g., RMSE).\n",
        "\n",
        "If you need further assistance or want to explore alternative approaches, let me know!"
      ]
    },
    {
      "cell_type": "markdown",
      "metadata": {
        "id": "1rt6pbJj7VqS"
      },
      "source": [
        "# END"
      ]
    }
  ],
  "metadata": {
    "accelerator": "GPU",
    "colab": {
      "gpuType": "T4",
      "provenance": []
    },
    "kernelspec": {
      "display_name": "Python 3",
      "name": "python3"
    },
    "language_info": {
      "name": "python"
    }
  },
  "nbformat": 4,
  "nbformat_minor": 0
}
